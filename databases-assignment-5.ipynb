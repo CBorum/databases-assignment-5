{
 "cells": [
  {
   "cell_type": "code",
   "execution_count": null,
   "metadata": {},
   "outputs": [],
   "source": [
    "%load_ext sql"
   ]
  },
  {
   "cell_type": "code",
   "execution_count": null,
   "metadata": {},
   "outputs": [],
   "source": [
    "%sql postgresql://appdev@data:5432/appdev"
   ]
  },
  {
   "cell_type": "code",
   "execution_count": null,
   "metadata": {
    "scrolled": true
   },
   "outputs": [],
   "source": [
    "%sql SELECT * from information_schema.tables WHERE table_schema = 'chinook';"
   ]
  },
  {
   "cell_type": "code",
   "execution_count": null,
   "metadata": {},
   "outputs": [],
   "source": [
    "%sql SELECT * from information_schema.columns WHERE table_schema = 'chinook';"
   ]
  },
  {
   "cell_type": "markdown",
   "metadata": {},
   "source": [
    "# 1. The union of all the tracks with genreid 18 and 20\n",
    "For this query we take the result from the first and the result from the second query, and then we get the genre for id 18 and 20. A simpler query would be \"... WHERE genreid = 18 OR genreid = 20\""
   ]
  },
  {
   "cell_type": "code",
   "execution_count": null,
   "metadata": {},
   "outputs": [],
   "source": [
    "%%sql\n",
    "SELECT * FROM chinook.genre WHERE genreid = 18\n",
    "UNION\n",
    "SELECT * FROM chinook.genre WHERE genreid = 20;"
   ]
  },
  {
   "cell_type": "markdown",
   "metadata": {},
   "source": [
    "# 2. The intersection of all the invoices that are cheaper than 10 dollars and the invoices that are more expensive than 5 dollars\n",
    "In this query we take the results that appear in both the first and second query, and only those. A simpler query would be \"... WHERE total < 10 OR total > 5\""
   ]
  },
  {
   "cell_type": "code",
   "execution_count": null,
   "metadata": {},
   "outputs": [],
   "source": [
    "%%sql\n",
    "SELECT * FROM chinook.invoice WHERE total < 10\n",
    "INTERSECT\n",
    "SELECT * FROM chinook.invoice WHERE total > 5;"
   ]
  },
  {
   "cell_type": "markdown",
   "metadata": {},
   "source": [
    "# 3. The set of all customers from USA, subtracted by the set of all customers with an email ending in 'yahoo.com'\n",
    "For this query we get the customers where the coutry is 'USA', and remove all etries that appear in the first and the second, which in this case is customers with a yahoo email. A simpler query would be \"... WHERE country = 'USA' AND NOT LIKE '%yahoo.com'\""
   ]
  },
  {
   "cell_type": "code",
   "execution_count": null,
   "metadata": {},
   "outputs": [],
   "source": [
    "%%sql\n",
    "SELECT * FROM chinook.customer WHERE country = 'USA'\n",
    "EXCEPT\n",
    "SELECT * FROM chinook.customer WHERE email LIKE '%yahoo.com'"
   ]
  },
  {
   "cell_type": "markdown",
   "metadata": {},
   "source": [
    "# 4. The union of the set of all albums playing something by Mozart and the set of all albums playing something with Bach\n",
    "Here i join the album table and the track table onthe albumid, because the track table contains the composer where we can find Bach or Mozart. Then we take both of the results where the composer is ending in Mozart or Back, respectively."
   ]
  },
  {
   "cell_type": "code",
   "execution_count": null,
   "metadata": {},
   "outputs": [],
   "source": [
    "%%sql\n",
    "SELECT * FROM chinook.album INNER JOIN chinook.track on album.albumid = track.albumid WHERE composer LIKE '%Mozart'\n",
    "UNION\n",
    "SELECT * FROM chinook.album INNER JOIN chinook.track on album.albumid = track.albumid WHERE composer LIKE '%Bach';"
   ]
  }
 ],
 "metadata": {
  "kernelspec": {
   "display_name": "Python 3",
   "language": "python",
   "name": "python3"
  },
  "language_info": {
   "codemirror_mode": {
    "name": "ipython",
    "version": 3
   },
   "file_extension": ".py",
   "mimetype": "text/x-python",
   "name": "python",
   "nbconvert_exporter": "python",
   "pygments_lexer": "ipython3",
   "version": "3.6.3"
  }
 },
 "nbformat": 4,
 "nbformat_minor": 2
}
